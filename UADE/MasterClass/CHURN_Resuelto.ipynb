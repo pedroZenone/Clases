{
  "nbformat": 4,
  "nbformat_minor": 0,
  "metadata": {
    "colab": {
      "name": "CHURN_Resuelto",
      "provenance": [],
      "collapsed_sections": [],
      "toc_visible": true
    },
    "kernelspec": {
      "display_name": "Python 3",
      "name": "python3"
    }
  },
  "cells": [
    {
      "cell_type": "markdown",
      "metadata": {
        "id": "pdFKvjAuQ1cS",
        "colab_type": "text"
      },
      "source": [
        "## La vida del data scientist\n",
        "\n",
        "El equipo de marketing de la empresa X quiere tomar decisiones para alocar presupuesto en base al valor futuro de los usuarios. Para ello se nos ha encargado desarrollar un modelo de LTV(file time value) que consista en predecir el valor futuro de cada usuario.\n",
        "\n",
        "Debido a que esta problematica es compleja, vamos a dividir el problema en 3 partes:\n",
        "- 1- Vamos a predecir si el usuario va a churnear (no va a comprar en el próximo año)\n",
        "\n",
        "- 2- Vamos a hacer un analisis clasico llamado RFM para entender como se segmentan nuestros usuarios\n",
        "\n",
        "- 3- Vamos a ponerle un valor a la cantidad de compras que realizará a futuro\n",
        "\n",
        "Para ello, se nos ha proporcionado un dataset -que afortunadamente nos dejaron los datos limpios (esto solo pasa en la facultad jeje)- para que podamos entrenar nuestro modelo. \n",
        "\n",
        "El datset consiste en los siguientes campos:\n",
        "- cust: ID del usuarios\n",
        "- Freq_2Y: Dias distintos de pago en ultimos 2 años\n",
        "- Freq_1Y: Dias distintos de pago en ultimos 1 años\n",
        "- Freq_3M: Dias distintos de pago en ultimos 3 meses\n",
        "- Recency: Cantidad de dias desde ultima compra\n",
        "- first_in_windows: Cantidad de dias desde primer compra\n",
        "- IPT_mean: Intervalo entre compra y compra\n",
        "- CREDIT_PAY: Pagos con tarjeta de credito\n",
        "- TIPO_TARJETA\n",
        "- CUS_FIRST_BUY: Dias desde primer compra\n",
        "- CANTIDAD_COMPRAS_ITEMS_USADOS\n",
        "- cant_dias_active_short: dias distintos de visita al sitio\n",
        "- recency_date_short: Dias desde ultima visita\n",
        "- Frequency_target: Dias distinto de compra en el próximo año"
      ]
    },
    {
      "cell_type": "markdown",
      "metadata": {
        "id": "7m8EGQ8vYXv8",
        "colab_type": "text"
      },
      "source": [
        "## 1) Levantamos el dataset"
      ]
    },
    {
      "cell_type": "code",
      "metadata": {
        "id": "ABuLPZHWQ4UE",
        "colab_type": "code",
        "colab": {
          "base_uri": "https://localhost:8080/",
          "height": 426
        },
        "outputId": "53b5b226-7ffb-40e3-ffcc-41500a34a5fc"
      },
      "source": [
        "import pandas as pd\n",
        "dataset = pd.read_csv(\"DATASET_LTV.csv\") # Levantamos el dataset\n",
        "\n",
        "# dataset.head()  # Siempre que levantamos un archivo vemos levantamos ;)"
      ],
      "execution_count": null,
      "outputs": [
        {
          "output_type": "error",
          "ename": "FileNotFoundError",
          "evalue": "ignored",
          "traceback": [
            "\u001b[0;31m---------------------------------------------------------------------------\u001b[0m",
            "\u001b[0;31mFileNotFoundError\u001b[0m                         Traceback (most recent call last)",
            "\u001b[0;32m<ipython-input-1-6e0e5402e55f>\u001b[0m in \u001b[0;36m<module>\u001b[0;34m()\u001b[0m\n\u001b[1;32m      1\u001b[0m \u001b[0;32mimport\u001b[0m \u001b[0mpandas\u001b[0m \u001b[0;32mas\u001b[0m \u001b[0mpd\u001b[0m\u001b[0;34m\u001b[0m\u001b[0;34m\u001b[0m\u001b[0m\n\u001b[0;32m----> 2\u001b[0;31m \u001b[0mdataset\u001b[0m \u001b[0;34m=\u001b[0m \u001b[0mpd\u001b[0m\u001b[0;34m.\u001b[0m\u001b[0mread_csv\u001b[0m\u001b[0;34m(\u001b[0m\u001b[0;34m\"DATASET_LTV.csv\"\u001b[0m\u001b[0;34m)\u001b[0m \u001b[0;31m# Levantamos el dataset\u001b[0m\u001b[0;34m\u001b[0m\u001b[0;34m\u001b[0m\u001b[0m\n\u001b[0m\u001b[1;32m      3\u001b[0m \u001b[0;34m\u001b[0m\u001b[0m\n\u001b[1;32m      4\u001b[0m \u001b[0;31m# dataset.head()  # Siempre que levantamos un archivo vemos levantamos ;)\u001b[0m\u001b[0;34m\u001b[0m\u001b[0;34m\u001b[0m\u001b[0;34m\u001b[0m\u001b[0m\n",
            "\u001b[0;32m/usr/local/lib/python3.6/dist-packages/pandas/io/parsers.py\u001b[0m in \u001b[0;36mparser_f\u001b[0;34m(filepath_or_buffer, sep, delimiter, header, names, index_col, usecols, squeeze, prefix, mangle_dupe_cols, dtype, engine, converters, true_values, false_values, skipinitialspace, skiprows, skipfooter, nrows, na_values, keep_default_na, na_filter, verbose, skip_blank_lines, parse_dates, infer_datetime_format, keep_date_col, date_parser, dayfirst, cache_dates, iterator, chunksize, compression, thousands, decimal, lineterminator, quotechar, quoting, doublequote, escapechar, comment, encoding, dialect, error_bad_lines, warn_bad_lines, delim_whitespace, low_memory, memory_map, float_precision)\u001b[0m\n\u001b[1;32m    674\u001b[0m         )\n\u001b[1;32m    675\u001b[0m \u001b[0;34m\u001b[0m\u001b[0m\n\u001b[0;32m--> 676\u001b[0;31m         \u001b[0;32mreturn\u001b[0m \u001b[0m_read\u001b[0m\u001b[0;34m(\u001b[0m\u001b[0mfilepath_or_buffer\u001b[0m\u001b[0;34m,\u001b[0m \u001b[0mkwds\u001b[0m\u001b[0;34m)\u001b[0m\u001b[0;34m\u001b[0m\u001b[0;34m\u001b[0m\u001b[0m\n\u001b[0m\u001b[1;32m    677\u001b[0m \u001b[0;34m\u001b[0m\u001b[0m\n\u001b[1;32m    678\u001b[0m     \u001b[0mparser_f\u001b[0m\u001b[0;34m.\u001b[0m\u001b[0m__name__\u001b[0m \u001b[0;34m=\u001b[0m \u001b[0mname\u001b[0m\u001b[0;34m\u001b[0m\u001b[0;34m\u001b[0m\u001b[0m\n",
            "\u001b[0;32m/usr/local/lib/python3.6/dist-packages/pandas/io/parsers.py\u001b[0m in \u001b[0;36m_read\u001b[0;34m(filepath_or_buffer, kwds)\u001b[0m\n\u001b[1;32m    446\u001b[0m \u001b[0;34m\u001b[0m\u001b[0m\n\u001b[1;32m    447\u001b[0m     \u001b[0;31m# Create the parser.\u001b[0m\u001b[0;34m\u001b[0m\u001b[0;34m\u001b[0m\u001b[0;34m\u001b[0m\u001b[0m\n\u001b[0;32m--> 448\u001b[0;31m     \u001b[0mparser\u001b[0m \u001b[0;34m=\u001b[0m \u001b[0mTextFileReader\u001b[0m\u001b[0;34m(\u001b[0m\u001b[0mfp_or_buf\u001b[0m\u001b[0;34m,\u001b[0m \u001b[0;34m**\u001b[0m\u001b[0mkwds\u001b[0m\u001b[0;34m)\u001b[0m\u001b[0;34m\u001b[0m\u001b[0;34m\u001b[0m\u001b[0m\n\u001b[0m\u001b[1;32m    449\u001b[0m \u001b[0;34m\u001b[0m\u001b[0m\n\u001b[1;32m    450\u001b[0m     \u001b[0;32mif\u001b[0m \u001b[0mchunksize\u001b[0m \u001b[0;32mor\u001b[0m \u001b[0miterator\u001b[0m\u001b[0;34m:\u001b[0m\u001b[0;34m\u001b[0m\u001b[0;34m\u001b[0m\u001b[0m\n",
            "\u001b[0;32m/usr/local/lib/python3.6/dist-packages/pandas/io/parsers.py\u001b[0m in \u001b[0;36m__init__\u001b[0;34m(self, f, engine, **kwds)\u001b[0m\n\u001b[1;32m    878\u001b[0m             \u001b[0mself\u001b[0m\u001b[0;34m.\u001b[0m\u001b[0moptions\u001b[0m\u001b[0;34m[\u001b[0m\u001b[0;34m\"has_index_names\"\u001b[0m\u001b[0;34m]\u001b[0m \u001b[0;34m=\u001b[0m \u001b[0mkwds\u001b[0m\u001b[0;34m[\u001b[0m\u001b[0;34m\"has_index_names\"\u001b[0m\u001b[0;34m]\u001b[0m\u001b[0;34m\u001b[0m\u001b[0;34m\u001b[0m\u001b[0m\n\u001b[1;32m    879\u001b[0m \u001b[0;34m\u001b[0m\u001b[0m\n\u001b[0;32m--> 880\u001b[0;31m         \u001b[0mself\u001b[0m\u001b[0;34m.\u001b[0m\u001b[0m_make_engine\u001b[0m\u001b[0;34m(\u001b[0m\u001b[0mself\u001b[0m\u001b[0;34m.\u001b[0m\u001b[0mengine\u001b[0m\u001b[0;34m)\u001b[0m\u001b[0;34m\u001b[0m\u001b[0;34m\u001b[0m\u001b[0m\n\u001b[0m\u001b[1;32m    881\u001b[0m \u001b[0;34m\u001b[0m\u001b[0m\n\u001b[1;32m    882\u001b[0m     \u001b[0;32mdef\u001b[0m \u001b[0mclose\u001b[0m\u001b[0;34m(\u001b[0m\u001b[0mself\u001b[0m\u001b[0;34m)\u001b[0m\u001b[0;34m:\u001b[0m\u001b[0;34m\u001b[0m\u001b[0;34m\u001b[0m\u001b[0m\n",
            "\u001b[0;32m/usr/local/lib/python3.6/dist-packages/pandas/io/parsers.py\u001b[0m in \u001b[0;36m_make_engine\u001b[0;34m(self, engine)\u001b[0m\n\u001b[1;32m   1112\u001b[0m     \u001b[0;32mdef\u001b[0m \u001b[0m_make_engine\u001b[0m\u001b[0;34m(\u001b[0m\u001b[0mself\u001b[0m\u001b[0;34m,\u001b[0m \u001b[0mengine\u001b[0m\u001b[0;34m=\u001b[0m\u001b[0;34m\"c\"\u001b[0m\u001b[0;34m)\u001b[0m\u001b[0;34m:\u001b[0m\u001b[0;34m\u001b[0m\u001b[0;34m\u001b[0m\u001b[0m\n\u001b[1;32m   1113\u001b[0m         \u001b[0;32mif\u001b[0m \u001b[0mengine\u001b[0m \u001b[0;34m==\u001b[0m \u001b[0;34m\"c\"\u001b[0m\u001b[0;34m:\u001b[0m\u001b[0;34m\u001b[0m\u001b[0;34m\u001b[0m\u001b[0m\n\u001b[0;32m-> 1114\u001b[0;31m             \u001b[0mself\u001b[0m\u001b[0;34m.\u001b[0m\u001b[0m_engine\u001b[0m \u001b[0;34m=\u001b[0m \u001b[0mCParserWrapper\u001b[0m\u001b[0;34m(\u001b[0m\u001b[0mself\u001b[0m\u001b[0;34m.\u001b[0m\u001b[0mf\u001b[0m\u001b[0;34m,\u001b[0m \u001b[0;34m**\u001b[0m\u001b[0mself\u001b[0m\u001b[0;34m.\u001b[0m\u001b[0moptions\u001b[0m\u001b[0;34m)\u001b[0m\u001b[0;34m\u001b[0m\u001b[0;34m\u001b[0m\u001b[0m\n\u001b[0m\u001b[1;32m   1115\u001b[0m         \u001b[0;32melse\u001b[0m\u001b[0;34m:\u001b[0m\u001b[0;34m\u001b[0m\u001b[0;34m\u001b[0m\u001b[0m\n\u001b[1;32m   1116\u001b[0m             \u001b[0;32mif\u001b[0m \u001b[0mengine\u001b[0m \u001b[0;34m==\u001b[0m \u001b[0;34m\"python\"\u001b[0m\u001b[0;34m:\u001b[0m\u001b[0;34m\u001b[0m\u001b[0;34m\u001b[0m\u001b[0m\n",
            "\u001b[0;32m/usr/local/lib/python3.6/dist-packages/pandas/io/parsers.py\u001b[0m in \u001b[0;36m__init__\u001b[0;34m(self, src, **kwds)\u001b[0m\n\u001b[1;32m   1889\u001b[0m         \u001b[0mkwds\u001b[0m\u001b[0;34m[\u001b[0m\u001b[0;34m\"usecols\"\u001b[0m\u001b[0;34m]\u001b[0m \u001b[0;34m=\u001b[0m \u001b[0mself\u001b[0m\u001b[0;34m.\u001b[0m\u001b[0musecols\u001b[0m\u001b[0;34m\u001b[0m\u001b[0;34m\u001b[0m\u001b[0m\n\u001b[1;32m   1890\u001b[0m \u001b[0;34m\u001b[0m\u001b[0m\n\u001b[0;32m-> 1891\u001b[0;31m         \u001b[0mself\u001b[0m\u001b[0;34m.\u001b[0m\u001b[0m_reader\u001b[0m \u001b[0;34m=\u001b[0m \u001b[0mparsers\u001b[0m\u001b[0;34m.\u001b[0m\u001b[0mTextReader\u001b[0m\u001b[0;34m(\u001b[0m\u001b[0msrc\u001b[0m\u001b[0;34m,\u001b[0m \u001b[0;34m**\u001b[0m\u001b[0mkwds\u001b[0m\u001b[0;34m)\u001b[0m\u001b[0;34m\u001b[0m\u001b[0;34m\u001b[0m\u001b[0m\n\u001b[0m\u001b[1;32m   1892\u001b[0m         \u001b[0mself\u001b[0m\u001b[0;34m.\u001b[0m\u001b[0munnamed_cols\u001b[0m \u001b[0;34m=\u001b[0m \u001b[0mself\u001b[0m\u001b[0;34m.\u001b[0m\u001b[0m_reader\u001b[0m\u001b[0;34m.\u001b[0m\u001b[0munnamed_cols\u001b[0m\u001b[0;34m\u001b[0m\u001b[0;34m\u001b[0m\u001b[0m\n\u001b[1;32m   1893\u001b[0m \u001b[0;34m\u001b[0m\u001b[0m\n",
            "\u001b[0;32mpandas/_libs/parsers.pyx\u001b[0m in \u001b[0;36mpandas._libs.parsers.TextReader.__cinit__\u001b[0;34m()\u001b[0m\n",
            "\u001b[0;32mpandas/_libs/parsers.pyx\u001b[0m in \u001b[0;36mpandas._libs.parsers.TextReader._setup_parser_source\u001b[0;34m()\u001b[0m\n",
            "\u001b[0;31mFileNotFoundError\u001b[0m: [Errno 2] File DATASET_LTV.csv does not exist: 'DATASET_LTV.csv'"
          ]
        }
      ]
    },
    {
      "cell_type": "markdown",
      "metadata": {
        "id": "T7PvHat9Y8V8",
        "colab_type": "text"
      },
      "source": [
        "#### Es coherente lo que vemos? \n",
        "Pista: Usa el parametro sep"
      ]
    },
    {
      "cell_type": "code",
      "metadata": {
        "id": "KyxoxDJHYJIe",
        "colab_type": "code",
        "colab": {
          "base_uri": "https://localhost:8080/",
          "height": 224
        },
        "outputId": "ce36b394-da5d-46b5-b26d-f11e0b99e6f4"
      },
      "source": [
        "dataset = pd.read_csv(\"DATASET_LTV.csv\",sep = \";\")\n",
        "dataset.head()"
      ],
      "execution_count": null,
      "outputs": [
        {
          "output_type": "execute_result",
          "data": {
            "text/html": [
              "<div>\n",
              "<style scoped>\n",
              "    .dataframe tbody tr th:only-of-type {\n",
              "        vertical-align: middle;\n",
              "    }\n",
              "\n",
              "    .dataframe tbody tr th {\n",
              "        vertical-align: top;\n",
              "    }\n",
              "\n",
              "    .dataframe thead th {\n",
              "        text-align: right;\n",
              "    }\n",
              "</style>\n",
              "<table border=\"1\" class=\"dataframe\">\n",
              "  <thead>\n",
              "    <tr style=\"text-align: right;\">\n",
              "      <th></th>\n",
              "      <th>cust</th>\n",
              "      <th>Recency</th>\n",
              "      <th>first_in_windows</th>\n",
              "      <th>Freq_2Y</th>\n",
              "      <th>Freq_1Y</th>\n",
              "      <th>Freq_3M</th>\n",
              "      <th>IPT_mean</th>\n",
              "      <th>CREDIT_PAY</th>\n",
              "      <th>TIPO_TARJETA</th>\n",
              "      <th>CUS_FIRST_BUY</th>\n",
              "      <th>CANTIDAD_COMPRAS_ITEMS_USADOS</th>\n",
              "      <th>cant_dias_active_short</th>\n",
              "      <th>recency_date_short</th>\n",
              "      <th>Frequency_target</th>\n",
              "    </tr>\n",
              "  </thead>\n",
              "  <tbody>\n",
              "    <tr>\n",
              "      <th>0</th>\n",
              "      <td>378518804</td>\n",
              "      <td>294.0</td>\n",
              "      <td>294.0</td>\n",
              "      <td>1</td>\n",
              "      <td>1</td>\n",
              "      <td>0.0</td>\n",
              "      <td>9.999999e+06</td>\n",
              "      <td>1.0</td>\n",
              "      <td>2.0</td>\n",
              "      <td>294.0</td>\n",
              "      <td>0</td>\n",
              "      <td>0.0</td>\n",
              "      <td>9999999.0</td>\n",
              "      <td>0.0</td>\n",
              "    </tr>\n",
              "    <tr>\n",
              "      <th>1</th>\n",
              "      <td>389613070</td>\n",
              "      <td>4.0</td>\n",
              "      <td>4.0</td>\n",
              "      <td>1</td>\n",
              "      <td>1</td>\n",
              "      <td>1.0</td>\n",
              "      <td>9.999999e+06</td>\n",
              "      <td>0.0</td>\n",
              "      <td>0.0</td>\n",
              "      <td>4.0</td>\n",
              "      <td>0</td>\n",
              "      <td>0.0</td>\n",
              "      <td>9999999.0</td>\n",
              "      <td>0.0</td>\n",
              "    </tr>\n",
              "    <tr>\n",
              "      <th>2</th>\n",
              "      <td>56668186</td>\n",
              "      <td>42.0</td>\n",
              "      <td>545.0</td>\n",
              "      <td>9</td>\n",
              "      <td>8</td>\n",
              "      <td>2.0</td>\n",
              "      <td>1.304561e+00</td>\n",
              "      <td>8.0</td>\n",
              "      <td>4.0</td>\n",
              "      <td>3114.0</td>\n",
              "      <td>0</td>\n",
              "      <td>1.0</td>\n",
              "      <td>27.0</td>\n",
              "      <td>14.0</td>\n",
              "    </tr>\n",
              "    <tr>\n",
              "      <th>3</th>\n",
              "      <td>307374346</td>\n",
              "      <td>14.0</td>\n",
              "      <td>544.0</td>\n",
              "      <td>6</td>\n",
              "      <td>5</td>\n",
              "      <td>1.0</td>\n",
              "      <td>1.301598e+00</td>\n",
              "      <td>7.0</td>\n",
              "      <td>2.0</td>\n",
              "      <td>544.0</td>\n",
              "      <td>0</td>\n",
              "      <td>3.0</td>\n",
              "      <td>1.0</td>\n",
              "      <td>6.0</td>\n",
              "    </tr>\n",
              "    <tr>\n",
              "      <th>4</th>\n",
              "      <td>211220646</td>\n",
              "      <td>31.0</td>\n",
              "      <td>48.0</td>\n",
              "      <td>3</td>\n",
              "      <td>3</td>\n",
              "      <td>3.0</td>\n",
              "      <td>9.097720e-01</td>\n",
              "      <td>0.0</td>\n",
              "      <td>0.0</td>\n",
              "      <td>48.0</td>\n",
              "      <td>0</td>\n",
              "      <td>5.0</td>\n",
              "      <td>16.0</td>\n",
              "      <td>1.0</td>\n",
              "    </tr>\n",
              "  </tbody>\n",
              "</table>\n",
              "</div>"
            ],
            "text/plain": [
              "        cust  Recency  ...  recency_date_short  Frequency_target\n",
              "0  378518804    294.0  ...           9999999.0               0.0\n",
              "1  389613070      4.0  ...           9999999.0               0.0\n",
              "2   56668186     42.0  ...                27.0              14.0\n",
              "3  307374346     14.0  ...                 1.0               6.0\n",
              "4  211220646     31.0  ...                16.0               1.0\n",
              "\n",
              "[5 rows x 14 columns]"
            ]
          },
          "metadata": {
            "tags": []
          },
          "execution_count": 2
        }
      ]
    },
    {
      "cell_type": "markdown",
      "metadata": {
        "id": "Xy5it0_j-xXG",
        "colab_type": "text"
      },
      "source": [
        "# CHURN"
      ]
    },
    {
      "cell_type": "markdown",
      "metadata": {
        "id": "HBFKVPz0ZbGF",
        "colab_type": "text"
      },
      "source": [
        "## 2) Exploramos el dataset\n",
        "Pista: \n",
        "- cust es un ID. LOS IDS NUNCA LOS USAMOS PARA ENTRENAR, son solo referencias para joinear en las tablas.\n",
        "- Ver cuales son los tipos de datos: Binarios (1-0), countinuos(1.23242, 2.92e-3), discretos(1,2,3,4,5), categoricos(\"cat1\",\"cat2\",\"cat5\")\n",
        "- Ver como esta balanceado el target\n",
        "- Ver cuales son los outliers y como se distribuyen los datos"
      ]
    },
    {
      "cell_type": "code",
      "metadata": {
        "id": "bxPijLZjbGBj",
        "colab_type": "code",
        "colab": {
          "base_uri": "https://localhost:8080/",
          "height": 68
        },
        "outputId": "6bfcb495-9ef8-442b-d6fc-fa9fc8c2211b"
      },
      "source": [
        "# Miro balanceo de clases. Vemos que la clase esta bastante balanceada!\n",
        "import numpy as np\n",
        "\n",
        "dataset[\"churn\"] = np.where(dataset.Frequency_target == 0,1,0)\n",
        "dataset[\"churn\"].value_counts()/dataset.shape[0]"
      ],
      "execution_count": null,
      "outputs": [
        {
          "output_type": "execute_result",
          "data": {
            "text/plain": [
              "0    0.6368\n",
              "1    0.3632\n",
              "Name: churn, dtype: float64"
            ]
          },
          "metadata": {
            "tags": []
          },
          "execution_count": 3
        }
      ]
    },
    {
      "cell_type": "code",
      "metadata": {
        "id": "t3GC7TPFb6Z9",
        "colab_type": "code",
        "colab": {
          "base_uri": "https://localhost:8080/",
          "height": 1000
        },
        "outputId": "37079a76-2ce7-4a56-c075-cdd92be94bf4"
      },
      "source": [
        "# Miramos cual es la relacion entre variables con el target\n",
        "\n",
        "# Como la division entre churners vs non churners no es exactamente 50-50 vamos a hacer un viejo truco \n",
        "# para que la etapa de exploracion sea mas rapido. Tomamos un sample (muestreo aleatorio) de la clase mayoritaria\n",
        "import matplotlib.pyplot as plt\n",
        "import seaborn as sns\n",
        "churners = dataset.loc[dataset.churn == 1]\n",
        "non_churners = dataset.loc[dataset.churn == 0].sample(n = churners.shape[0]) # Truquito \n",
        "\n",
        "sns.set(font_scale = 1)\n",
        "fig, ax = plt.subplots(figsize=(16,16),nrows=2,ncols = 2)\n",
        "ax[0,0].hist(churners.Freq_2Y,bins = range(0,30),color = \"r\",alpha = 0.5,density = True)\n",
        "_ = ax[0,0].hist(non_churners.Freq_2Y,bins = range(0,30),color = \"g\", alpha = 0.5,density = True)\n",
        "ax[0,0].set_xlabel(\"Frequency\")\n",
        "ax[0,0].title.set_text(\"Histograma de dias distintos de compra\")\n",
        "ax[0,0].legend([\"CHURN\",\"NON CHURN\"])\n",
        "\n",
        "ax[0,1].hist(churners.Recency,color = \"r\",alpha = 0.5,density = True)\n",
        "_ = ax[0,1].hist(non_churners.Recency,color = \"g\", alpha = 0.5,density = True)\n",
        "ax[0,1].set_xlabel(\"Recency\")\n",
        "ax[0,1].title.set_text(\"Histograma de dias desde ultima transaccion\")\n",
        "ax[0,1].legend([\"CHURN\",\"NON CHURN\"])\n",
        "\n",
        "ax[1,0].hist(churners[\"first_in_windows\"],color = \"r\",alpha = 0.5,density = True)\n",
        "_ = ax[1,0].hist(non_churners[\"first_in_windows\"],color = \"g\", alpha = 0.5,density = True)\n",
        "ax[1,0].set_xlabel(\"Primera compra\")\n",
        "ax[1,0].title.set_text(\"Histograma de dias desde ultima transaccion\")\n",
        "ax[1,0].legend([\"CHURN\",\"NON CHURN\"])\n",
        "\n",
        "ax[1,1].hist(churners[\"IPT_mean\"],bins = np.arange(0.1,4,0.1),color = \"r\",alpha = 0.5,density = True)\n",
        "_ = ax[1,1].hist(non_churners[\"IPT_mean\"],bins = np.arange(0.1,4,0.1),color = \"g\", alpha = 0.5,density = True)\n",
        "ax[1,1].set_xlabel(\"IPT\")\n",
        "ax[1,1].title.set_text(\"Histograma de intervalos entre compra y compra\")\n",
        "ax[1,1].legend([\"CHURN\",\"NON CHURN\"])"
      ],
      "execution_count": null,
      "outputs": [
        {
          "output_type": "stream",
          "text": [
            "/usr/local/lib/python3.6/dist-packages/statsmodels/tools/_testing.py:19: FutureWarning: pandas.util.testing is deprecated. Use the functions in the public API at pandas.testing instead.\n",
            "  import pandas.util.testing as tm\n"
          ],
          "name": "stderr"
        },
        {
          "output_type": "execute_result",
          "data": {
            "text/plain": [
              "<matplotlib.legend.Legend at 0x7f139898b9e8>"
            ]
          },
          "metadata": {
            "tags": []
          },
          "execution_count": 4
        },
        {
          "output_type": "display_data",
          "data": {
            "image/png": "[encoded data removed]",
            "text/plain": [
              "<Figure size 1152x1152 with 4 Axes>"
            ]
          },
          "metadata": {
            "tags": []
          }
        }
      ]
    },
    {
      "cell_type": "code",
      "metadata": {
        "id": "wgQBUoalgg8w",
        "colab_type": "code",
        "colab": {
          "base_uri": "https://localhost:8080/",
          "height": 238
        },
        "outputId": "a44183d3-7135-48bb-c60e-a2b9597d7d1c"
      },
      "source": [
        "# Si el target (churn) es discreto, NO podremos hacer una correlacion! Si nuestro feature es continuo. \n",
        "# Para esto lo que necesitamos es ver si hay separacion de medias. Vamos a usar un test de hipotesis llamado ttest\n",
        "\n",
        "from scipy.stats import ttest_ind\n",
        "\n",
        "churners = dataset.loc[dataset.churn == 1]\n",
        "non_churners = dataset.loc[dataset.churn == 0].sample(n = churners.shape[0]) # Truquito \n",
        "\n",
        "train_cols = ['Recency', 'first_in_windows', 'Freq_2Y', 'Freq_1Y', 'Freq_3M',\n",
        "       'IPT_mean', 'CREDIT_PAY', 'TIPO_TARJETA',\n",
        "       'CUS_FIRST_BUY', 'CANTIDAD_COMPRAS_ITEMS_USADOS',\n",
        "       'cant_dias_active_short', 'recency_date_short']\n",
        "\n",
        "print(\"Pvalue < 0.05 implica que no tenemos evidencia para rechazar hipotesis de que medias son iguales\")\n",
        "for c in train_cols:\n",
        "  print(c,ttest_ind(non_churners[c].values,churners[c].values).pvalue)"
      ],
      "execution_count": null,
      "outputs": [
        {
          "output_type": "stream",
          "text": [
            "Pvalue < 0.05 implica que no tenemos evidencia para rechazar hipotesis de que medias son iguales\n",
            "Recency 2.0673321692508598e-133\n",
            "first_in_windows 2.931312418416819e-112\n",
            "Freq_2Y 8.38169054437481e-112\n",
            "Freq_1Y 6.5856744331832954e-127\n",
            "Freq_3M 5.268379332364358e-130\n",
            "IPT_mean 1.0386774389990448e-215\n",
            "CREDIT_PAY 2.5503467872377414e-53\n",
            "TIPO_TARJETA 4.730200198403469e-37\n",
            "CUS_FIRST_BUY 1.1676381495671397e-61\n",
            "CANTIDAD_COMPRAS_ITEMS_USADOS 2.3089399564190577e-13\n",
            "cant_dias_active_short 4.499276442607559e-189\n",
            "recency_date_short 1.2498856544345985e-173\n"
          ],
          "name": "stdout"
        }
      ]
    },
    {
      "cell_type": "markdown",
      "metadata": {
        "id": "Opxapq7LEjZZ",
        "colab_type": "text"
      },
      "source": [
        "## 3) Hora de modelar\n",
        "\n",
        "Antes dividimos el dataset entre test- train segun las sagradas leyes:\n",
        "- 1- No entrenar datos con datos test\n",
        "- 2- Nunca entrenar datos con datos test\n",
        "- 3- Jamas entrenar datos con datos test"
      ]
    },
    {
      "cell_type": "code",
      "metadata": {
        "id": "4OOWoXAIGDz0",
        "colab_type": "code",
        "colab": {}
      },
      "source": [
        "train_cols = ['Recency', 'first_in_windows', 'Freq_2Y', 'Freq_1Y', 'Freq_3M',\n",
        "       'IPT_mean', 'CREDIT_PAY', 'TIPO_TARJETA',\n",
        "       'CUS_FIRST_BUY', 'CANTIDAD_COMPRAS_ITEMS_USADOS',\n",
        "       'cant_dias_active_short', 'recency_date_short']"
      ],
      "execution_count": null,
      "outputs": []
    },
    {
      "cell_type": "code",
      "metadata": {
        "id": "q0sdMZ7QDHQH",
        "colab_type": "code",
        "colab": {
          "base_uri": "https://localhost:8080/",
          "height": 119
        },
        "outputId": "99d4ec13-9990-4c42-fe32-34cec1b987ed"
      },
      "source": [
        "from sklearn.model_selection import train_test_split\n",
        "\n",
        "# Si usas el campo stratify de train_test_split mejor ;) https://scikit-learn.org/stable/modules/generated/sklearn.model_selection.train_test_split.html\n",
        "X_train, X_test, y_train, y_test  = train_test_split(dataset[train_cols],dataset.churn,random_state=42,test_size = 0.3,stratify = dataset.churn) # el dataset esta un poco desbalanceado, es conveniente splitear con este campo. Si tenemos un balanceo ej: 70-30, luego train y test deben tener el mismo balanceo\n",
        "\n",
        "# Vamos a probar con la conocida regresion logistica. Primero standarizamos por si alguien quiere hacer combinacion de features..._\n",
        "from sklearn.preprocessing import StandardScaler\n",
        "\n",
        "std = StandardScaler()\n",
        "std = std.fit(X_train)  # Calculamos media y desvio sobre los datos de trianing\n",
        "\n",
        "# aplicamos transformacion sobre lo aprendido\n",
        "X_train_s = std.transform(X_train)\n",
        "X_test_s = std.transform(X_test)\n",
        "\n",
        "from sklearn.linear_model import LogisticRegression\n",
        "from sklearn.model_selection import GridSearchCV\n",
        "\n",
        "param_grid = {'C': [0.001, 0.01, 0.1, 1, 10, 100, 1000],\n",
        "              \"class_weight\":[None,\"balanced\"]}\n",
        "\n",
        "# Entrenar usando curva ROC\n",
        "lr=LogisticRegression()\n",
        "search=GridSearchCV(lr,param_grid,cv=3,n_jobs=-1,scoring=\"roc_auc\")\n",
        "search.fit(X_train_s,y_train)\n",
        "\n",
        "print(\"AUC:\",search.best_score_)\n",
        "search.best_estimator_  # Nos fijamos cuales son los mejores estimadores para ver si no tenemos que aumentar la grilla"
      ],
      "execution_count": null,
      "outputs": [
        {
          "output_type": "stream",
          "text": [
            "AUC: 0.7815934539558503\n"
          ],
          "name": "stdout"
        },
        {
          "output_type": "execute_result",
          "data": {
            "text/plain": [
              "LogisticRegression(C=0.01, class_weight=None, dual=False, fit_intercept=True,\n",
              "                   intercept_scaling=1, l1_ratio=None, max_iter=100,\n",
              "                   multi_class='auto', n_jobs=None, penalty='l2',\n",
              "                   random_state=None, solver='lbfgs', tol=0.0001, verbose=0,\n",
              "                   warm_start=False)"
            ]
          },
          "metadata": {
            "tags": []
          },
          "execution_count": 21
        }
      ]
    },
    {
      "cell_type": "code",
      "metadata": {
        "id": "NbLy7nN5bxXA",
        "colab_type": "code",
        "colab": {
          "base_uri": "https://localhost:8080/",
          "height": 306
        },
        "outputId": "48f7bf6a-2843-43ad-b11d-8868aaa73282"
      },
      "source": [
        "# Y si queremos agregar PCA a nuestro pipeline de modelado? Se empieza a complicar todo. Mejora?\n",
        "# https://scikit-learn.org/stable/tutorial/statistical_inference/putting_together.html\n",
        "\n",
        "from sklearn.pipeline import Pipeline\n",
        "from sklearn.decomposition import PCA\n",
        "\n",
        "pipe = Pipeline(steps=[('std', StandardScaler()),('pca', PCA()), ('logistic', LogisticRegression())])\n",
        "grid = [{\"pca__n_components\":list(range(5,len(train_cols)-1)),\n",
        "         \"logistic__C\": [0.001, 0.01, 0.1, 1, 10, 100, 1000],\n",
        "         \"logistic__class_weight\":[None,\"balanced\"]\n",
        "         }]\n",
        "         \n",
        "search_lr=GridSearchCV(pipe,grid,cv=3,n_jobs=-1,scoring=\"roc_auc\")\n",
        "search_lr.fit(X_train,y_train)\n",
        "\n",
        "print(\"AUC:\",search_lr.best_score_)\n",
        "search_lr.best_estimator_"
      ],
      "execution_count": null,
      "outputs": [
        {
          "output_type": "stream",
          "text": [
            "AUC: 0.7815460624195855\n"
          ],
          "name": "stdout"
        },
        {
          "output_type": "execute_result",
          "data": {
            "text/plain": [
              "Pipeline(memory=None,\n",
              "         steps=[('std',\n",
              "                 StandardScaler(copy=True, with_mean=True, with_std=True)),\n",
              "                ('pca',\n",
              "                 PCA(copy=True, iterated_power='auto', n_components=10,\n",
              "                     random_state=None, svd_solver='auto', tol=0.0,\n",
              "                     whiten=False)),\n",
              "                ('logistic',\n",
              "                 LogisticRegression(C=0.01, class_weight=None, dual=False,\n",
              "                                    fit_intercept=True, intercept_scaling=1,\n",
              "                                    l1_ratio=None, max_iter=100,\n",
              "                                    multi_class='auto', n_jobs=None,\n",
              "                                    penalty='l2', random_state=None,\n",
              "                                    solver='lbfgs', tol=0.0001, verbose=0,\n",
              "                                    warm_start=False))],\n",
              "         verbose=False)"
            ]
          },
          "metadata": {
            "tags": []
          },
          "execution_count": 22
        }
      ]
    },
    {
      "cell_type": "code",
      "metadata": {
        "id": "3G6HH8nk4UTZ",
        "colab_type": "code",
        "colab": {
          "base_uri": "https://localhost:8080/",
          "height": 187
        },
        "outputId": "24dd8111-e54f-4e47-d85c-f73abba0b2b8"
      },
      "source": [
        "# Probemos con knn. Sabemos que es lento y que no es robusto, veamos como funciona...\n",
        "\n",
        "from sklearn.neighbors import KNeighborsClassifier\n",
        "\n",
        "pipe = Pipeline(steps=[('std', StandardScaler()), ('knn', KNeighborsClassifier())])\n",
        "grid = [{\"knn__n_neighbors\": np.arange(200,500,20),\n",
        "         \"knn__metric\":[\"l2\",\"l1\"]\n",
        "         }]\n",
        "         \n",
        "search_knn=GridSearchCV(pipe,grid,cv=3,n_jobs=-1,scoring=\"roc_auc\")\n",
        "search_knn.fit(X_train,y_train)\n",
        "\n",
        "print(\"AUC:\",search_knn.best_score_)\n",
        "search_knn.best_estimator_"
      ],
      "execution_count": null,
      "outputs": [
        {
          "output_type": "stream",
          "text": [
            "AUC: 0.778482271914577\n"
          ],
          "name": "stdout"
        },
        {
          "output_type": "execute_result",
          "data": {
            "text/plain": [
              "Pipeline(memory=None,\n",
              "         steps=[('std',\n",
              "                 StandardScaler(copy=True, with_mean=True, with_std=True)),\n",
              "                ('knn',\n",
              "                 KNeighborsClassifier(algorithm='auto', leaf_size=30,\n",
              "                                      metric='l1', metric_params=None,\n",
              "                                      n_jobs=None, n_neighbors=320, p=2,\n",
              "                                      weights='uniform'))],\n",
              "         verbose=False)"
            ]
          },
          "metadata": {
            "tags": []
          },
          "execution_count": 23
        }
      ]
    },
    {
      "cell_type": "code",
      "metadata": {
        "id": "ha_Uk9EPhXDI",
        "colab_type": "code",
        "colab": {
          "base_uri": "https://localhost:8080/",
          "height": 528
        },
        "outputId": "9dc0da3f-4232-4f5f-e5bd-823b191d2080"
      },
      "source": [
        "from sklearn.ensemble import RandomForestClassifier\n",
        "\n",
        "pipe = Pipeline(steps=[('std', StandardScaler()),('rf', RandomForestClassifier())])\n",
        "\n",
        "grid = [{'rf__n_estimators': [100,200, 500,800, 1200,1800],\n",
        "            'rf__max_features': ['auto', 'sqrt', 'log2'],\n",
        "            'rf__max_depth' : [4,5,6,7,8],\n",
        "            'rf__criterion' :['gini', 'entropy']\n",
        "         }]\n",
        "         \n",
        "search_rf=GridSearchCV(pipe,grid,cv=3,n_jobs=-1,scoring=\"roc_auc\",verbose = 10) # Con el parametro verbose podemos ver si nuestra CPU esta trabajando o se quedo algo tildado...\n",
        "search_rf.fit(X_train,y_train)\n",
        "\n",
        "print(\"AUC:\",search_rf.best_score_)\n",
        "search_rf.best_estimator_\n",
        "\n",
        "# Creen que esto terminara antes de las 10? Vamos con un atajo ;)"
      ],
      "execution_count": null,
      "outputs": [
        {
          "output_type": "stream",
          "text": [
            "Fitting 3 folds for each of 180 candidates, totalling 540 fits\n"
          ],
          "name": "stdout"
        },
        {
          "output_type": "stream",
          "text": [
            "[Parallel(n_jobs=-1)]: Using backend LokyBackend with 2 concurrent workers.\n",
            "[Parallel(n_jobs=-1)]: Done   1 tasks      | elapsed:    0.6s\n",
            "[Parallel(n_jobs=-1)]: Done   4 tasks      | elapsed:    1.8s\n",
            "[Parallel(n_jobs=-1)]: Done   9 tasks      | elapsed:    6.4s\n",
            "[Parallel(n_jobs=-1)]: Done  10 tasks      | elapsed:    6.4s\n",
            "[Parallel(n_jobs=-1)]: Done  11 tasks      | elapsed:    6.4s\n",
            "[Parallel(n_jobs=-1)]: Done  12 tasks      | elapsed:    6.4s\n"
          ],
          "name": "stderr"
        },
        {
          "output_type": "error",
          "ename": "KeyboardInterrupt",
          "evalue": "ignored",
          "traceback": [
            "\u001b[0;31m---------------------------------------------------------------------------\u001b[0m",
            "\u001b[0;31mKeyboardInterrupt\u001b[0m                         Traceback (most recent call last)",
            "\u001b[0;32m<ipython-input-24-c05384ee8ea3>\u001b[0m in \u001b[0;36m<module>\u001b[0;34m()\u001b[0m\n\u001b[1;32m     10\u001b[0m \u001b[0;34m\u001b[0m\u001b[0m\n\u001b[1;32m     11\u001b[0m \u001b[0msearch_rf\u001b[0m\u001b[0;34m=\u001b[0m\u001b[0mGridSearchCV\u001b[0m\u001b[0;34m(\u001b[0m\u001b[0mpipe\u001b[0m\u001b[0;34m,\u001b[0m\u001b[0mgrid\u001b[0m\u001b[0;34m,\u001b[0m\u001b[0mcv\u001b[0m\u001b[0;34m=\u001b[0m\u001b[0;36m3\u001b[0m\u001b[0;34m,\u001b[0m\u001b[0mn_jobs\u001b[0m\u001b[0;34m=\u001b[0m\u001b[0;34m-\u001b[0m\u001b[0;36m1\u001b[0m\u001b[0;34m,\u001b[0m\u001b[0mscoring\u001b[0m\u001b[0;34m=\u001b[0m\u001b[0;34m\"roc_auc\"\u001b[0m\u001b[0;34m,\u001b[0m\u001b[0mverbose\u001b[0m \u001b[0;34m=\u001b[0m \u001b[0;36m10\u001b[0m\u001b[0;34m)\u001b[0m \u001b[0;31m# Con el parametro verbose podemos ver si nuestra CPU esta trabajando o se quedo algo tildado...\u001b[0m\u001b[0;34m\u001b[0m\u001b[0;34m\u001b[0m\u001b[0m\n\u001b[0;32m---> 12\u001b[0;31m \u001b[0msearch_rf\u001b[0m\u001b[0;34m.\u001b[0m\u001b[0mfit\u001b[0m\u001b[0;34m(\u001b[0m\u001b[0mX_train\u001b[0m\u001b[0;34m,\u001b[0m\u001b[0my_train\u001b[0m\u001b[0;34m)\u001b[0m\u001b[0;34m\u001b[0m\u001b[0;34m\u001b[0m\u001b[0m\n\u001b[0m\u001b[1;32m     13\u001b[0m \u001b[0;34m\u001b[0m\u001b[0m\n\u001b[1;32m     14\u001b[0m \u001b[0mprint\u001b[0m\u001b[0;34m(\u001b[0m\u001b[0;34m\"AUC:\"\u001b[0m\u001b[0;34m,\u001b[0m\u001b[0msearch_rf\u001b[0m\u001b[0;34m.\u001b[0m\u001b[0mbest_score_\u001b[0m\u001b[0;34m)\u001b[0m\u001b[0;34m\u001b[0m\u001b[0;34m\u001b[0m\u001b[0m\n",
            "\u001b[0;32m/usr/local/lib/python3.6/dist-packages/sklearn/model_selection/_search.py\u001b[0m in \u001b[0;36mfit\u001b[0;34m(self, X, y, groups, **fit_params)\u001b[0m\n\u001b[1;32m    708\u001b[0m                 \u001b[0;32mreturn\u001b[0m \u001b[0mresults\u001b[0m\u001b[0;34m\u001b[0m\u001b[0;34m\u001b[0m\u001b[0m\n\u001b[1;32m    709\u001b[0m \u001b[0;34m\u001b[0m\u001b[0m\n\u001b[0;32m--> 710\u001b[0;31m             \u001b[0mself\u001b[0m\u001b[0;34m.\u001b[0m\u001b[0m_run_search\u001b[0m\u001b[0;34m(\u001b[0m\u001b[0mevaluate_candidates\u001b[0m\u001b[0;34m)\u001b[0m\u001b[0;34m\u001b[0m\u001b[0;34m\u001b[0m\u001b[0m\n\u001b[0m\u001b[1;32m    711\u001b[0m \u001b[0;34m\u001b[0m\u001b[0m\n\u001b[1;32m    712\u001b[0m         \u001b[0;31m# For multi-metric evaluation, store the best_index_, best_params_ and\u001b[0m\u001b[0;34m\u001b[0m\u001b[0;34m\u001b[0m\u001b[0;34m\u001b[0m\u001b[0m\n",
            "\u001b[0;32m/usr/local/lib/python3.6/dist-packages/sklearn/model_selection/_search.py\u001b[0m in \u001b[0;36m_run_search\u001b[0;34m(self, evaluate_candidates)\u001b[0m\n\u001b[1;32m   1149\u001b[0m     \u001b[0;32mdef\u001b[0m \u001b[0m_run_search\u001b[0m\u001b[0;34m(\u001b[0m\u001b[0mself\u001b[0m\u001b[0;34m,\u001b[0m \u001b[0mevaluate_candidates\u001b[0m\u001b[0;34m)\u001b[0m\u001b[0;34m:\u001b[0m\u001b[0;34m\u001b[0m\u001b[0;34m\u001b[0m\u001b[0m\n\u001b[1;32m   1150\u001b[0m         \u001b[0;34m\"\"\"Search all candidates in param_grid\"\"\"\u001b[0m\u001b[0;34m\u001b[0m\u001b[0;34m\u001b[0m\u001b[0m\n\u001b[0;32m-> 1151\u001b[0;31m         \u001b[0mevaluate_candidates\u001b[0m\u001b[0;34m(\u001b[0m\u001b[0mParameterGrid\u001b[0m\u001b[0;34m(\u001b[0m\u001b[0mself\u001b[0m\u001b[0;34m.\u001b[0m\u001b[0mparam_grid\u001b[0m\u001b[0;34m)\u001b[0m\u001b[0;34m)\u001b[0m\u001b[0;34m\u001b[0m\u001b[0;34m\u001b[0m\u001b[0m\n\u001b[0m\u001b[1;32m   1152\u001b[0m \u001b[0;34m\u001b[0m\u001b[0m\n\u001b[1;32m   1153\u001b[0m \u001b[0;34m\u001b[0m\u001b[0m\n",
            "\u001b[0;32m/usr/local/lib/python3.6/dist-packages/sklearn/model_selection/_search.py\u001b[0m in \u001b[0;36mevaluate_candidates\u001b[0;34m(candidate_params)\u001b[0m\n\u001b[1;32m    687\u001b[0m                                \u001b[0;32mfor\u001b[0m \u001b[0mparameters\u001b[0m\u001b[0;34m,\u001b[0m \u001b[0;34m(\u001b[0m\u001b[0mtrain\u001b[0m\u001b[0;34m,\u001b[0m \u001b[0mtest\u001b[0m\u001b[0;34m)\u001b[0m\u001b[0;34m\u001b[0m\u001b[0;34m\u001b[0m\u001b[0m\n\u001b[1;32m    688\u001b[0m                                in product(candidate_params,\n\u001b[0;32m--> 689\u001b[0;31m                                           cv.split(X, y, groups)))\n\u001b[0m\u001b[1;32m    690\u001b[0m \u001b[0;34m\u001b[0m\u001b[0m\n\u001b[1;32m    691\u001b[0m                 \u001b[0;32mif\u001b[0m \u001b[0mlen\u001b[0m\u001b[0;34m(\u001b[0m\u001b[0mout\u001b[0m\u001b[0;34m)\u001b[0m \u001b[0;34m<\u001b[0m \u001b[0;36m1\u001b[0m\u001b[0;34m:\u001b[0m\u001b[0;34m\u001b[0m\u001b[0;34m\u001b[0m\u001b[0m\n",
            "\u001b[0;32m/usr/local/lib/python3.6/dist-packages/joblib/parallel.py\u001b[0m in \u001b[0;36m__call__\u001b[0;34m(self, iterable)\u001b[0m\n\u001b[1;32m   1040\u001b[0m \u001b[0;34m\u001b[0m\u001b[0m\n\u001b[1;32m   1041\u001b[0m             \u001b[0;32mwith\u001b[0m \u001b[0mself\u001b[0m\u001b[0;34m.\u001b[0m\u001b[0m_backend\u001b[0m\u001b[0;34m.\u001b[0m\u001b[0mretrieval_context\u001b[0m\u001b[0;34m(\u001b[0m\u001b[0;34m)\u001b[0m\u001b[0;34m:\u001b[0m\u001b[0;34m\u001b[0m\u001b[0;34m\u001b[0m\u001b[0m\n\u001b[0;32m-> 1042\u001b[0;31m                 \u001b[0mself\u001b[0m\u001b[0;34m.\u001b[0m\u001b[0mretrieve\u001b[0m\u001b[0;34m(\u001b[0m\u001b[0;34m)\u001b[0m\u001b[0;34m\u001b[0m\u001b[0;34m\u001b[0m\u001b[0m\n\u001b[0m\u001b[1;32m   1043\u001b[0m             \u001b[0;31m# Make sure that we get a last message telling us we are done\u001b[0m\u001b[0;34m\u001b[0m\u001b[0;34m\u001b[0m\u001b[0;34m\u001b[0m\u001b[0m\n\u001b[1;32m   1044\u001b[0m             \u001b[0melapsed_time\u001b[0m \u001b[0;34m=\u001b[0m \u001b[0mtime\u001b[0m\u001b[0;34m.\u001b[0m\u001b[0mtime\u001b[0m\u001b[0;34m(\u001b[0m\u001b[0;34m)\u001b[0m \u001b[0;34m-\u001b[0m \u001b[0mself\u001b[0m\u001b[0;34m.\u001b[0m\u001b[0m_start_time\u001b[0m\u001b[0;34m\u001b[0m\u001b[0;34m\u001b[0m\u001b[0m\n",
            "\u001b[0;32m/usr/local/lib/python3.6/dist-packages/joblib/parallel.py\u001b[0m in \u001b[0;36mretrieve\u001b[0;34m(self)\u001b[0m\n\u001b[1;32m    919\u001b[0m             \u001b[0;32mtry\u001b[0m\u001b[0;34m:\u001b[0m\u001b[0;34m\u001b[0m\u001b[0;34m\u001b[0m\u001b[0m\n\u001b[1;32m    920\u001b[0m                 \u001b[0;32mif\u001b[0m \u001b[0mgetattr\u001b[0m\u001b[0;34m(\u001b[0m\u001b[0mself\u001b[0m\u001b[0;34m.\u001b[0m\u001b[0m_backend\u001b[0m\u001b[0;34m,\u001b[0m \u001b[0;34m'supports_timeout'\u001b[0m\u001b[0;34m,\u001b[0m \u001b[0;32mFalse\u001b[0m\u001b[0;34m)\u001b[0m\u001b[0;34m:\u001b[0m\u001b[0;34m\u001b[0m\u001b[0;34m\u001b[0m\u001b[0m\n\u001b[0;32m--> 921\u001b[0;31m                     \u001b[0mself\u001b[0m\u001b[0;34m.\u001b[0m\u001b[0m_output\u001b[0m\u001b[0;34m.\u001b[0m\u001b[0mextend\u001b[0m\u001b[0;34m(\u001b[0m\u001b[0mjob\u001b[0m\u001b[0;34m.\u001b[0m\u001b[0mget\u001b[0m\u001b[0;34m(\u001b[0m\u001b[0mtimeout\u001b[0m\u001b[0;34m=\u001b[0m\u001b[0mself\u001b[0m\u001b[0;34m.\u001b[0m\u001b[0mtimeout\u001b[0m\u001b[0;34m)\u001b[0m\u001b[0;34m)\u001b[0m\u001b[0;34m\u001b[0m\u001b[0;34m\u001b[0m\u001b[0m\n\u001b[0m\u001b[1;32m    922\u001b[0m                 \u001b[0;32melse\u001b[0m\u001b[0;34m:\u001b[0m\u001b[0;34m\u001b[0m\u001b[0;34m\u001b[0m\u001b[0m\n\u001b[1;32m    923\u001b[0m                     \u001b[0mself\u001b[0m\u001b[0;34m.\u001b[0m\u001b[0m_output\u001b[0m\u001b[0;34m.\u001b[0m\u001b[0mextend\u001b[0m\u001b[0;34m(\u001b[0m\u001b[0mjob\u001b[0m\u001b[0;34m.\u001b[0m\u001b[0mget\u001b[0m\u001b[0;34m(\u001b[0m\u001b[0;34m)\u001b[0m\u001b[0;34m)\u001b[0m\u001b[0;34m\u001b[0m\u001b[0;34m\u001b[0m\u001b[0m\n",
            "\u001b[0;32m/usr/local/lib/python3.6/dist-packages/joblib/_parallel_backends.py\u001b[0m in \u001b[0;36mwrap_future_result\u001b[0;34m(future, timeout)\u001b[0m\n\u001b[1;32m    540\u001b[0m         AsyncResults.get from multiprocessing.\"\"\"\n\u001b[1;32m    541\u001b[0m         \u001b[0;32mtry\u001b[0m\u001b[0;34m:\u001b[0m\u001b[0;34m\u001b[0m\u001b[0;34m\u001b[0m\u001b[0m\n\u001b[0;32m--> 542\u001b[0;31m             \u001b[0;32mreturn\u001b[0m \u001b[0mfuture\u001b[0m\u001b[0;34m.\u001b[0m\u001b[0mresult\u001b[0m\u001b[0;34m(\u001b[0m\u001b[0mtimeout\u001b[0m\u001b[0;34m=\u001b[0m\u001b[0mtimeout\u001b[0m\u001b[0;34m)\u001b[0m\u001b[0;34m\u001b[0m\u001b[0;34m\u001b[0m\u001b[0m\n\u001b[0m\u001b[1;32m    543\u001b[0m         \u001b[0;32mexcept\u001b[0m \u001b[0mCfTimeoutError\u001b[0m \u001b[0;32mas\u001b[0m \u001b[0me\u001b[0m\u001b[0;34m:\u001b[0m\u001b[0;34m\u001b[0m\u001b[0;34m\u001b[0m\u001b[0m\n\u001b[1;32m    544\u001b[0m             \u001b[0;32mraise\u001b[0m \u001b[0mTimeoutError\u001b[0m \u001b[0;32mfrom\u001b[0m \u001b[0me\u001b[0m\u001b[0;34m\u001b[0m\u001b[0;34m\u001b[0m\u001b[0m\n",
            "\u001b[0;32m/usr/lib/python3.6/concurrent/futures/_base.py\u001b[0m in \u001b[0;36mresult\u001b[0;34m(self, timeout)\u001b[0m\n\u001b[1;32m    425\u001b[0m                 \u001b[0;32mreturn\u001b[0m \u001b[0mself\u001b[0m\u001b[0;34m.\u001b[0m\u001b[0m__get_result\u001b[0m\u001b[0;34m(\u001b[0m\u001b[0;34m)\u001b[0m\u001b[0;34m\u001b[0m\u001b[0;34m\u001b[0m\u001b[0m\n\u001b[1;32m    426\u001b[0m \u001b[0;34m\u001b[0m\u001b[0m\n\u001b[0;32m--> 427\u001b[0;31m             \u001b[0mself\u001b[0m\u001b[0;34m.\u001b[0m\u001b[0m_condition\u001b[0m\u001b[0;34m.\u001b[0m\u001b[0mwait\u001b[0m\u001b[0;34m(\u001b[0m\u001b[0mtimeout\u001b[0m\u001b[0;34m)\u001b[0m\u001b[0;34m\u001b[0m\u001b[0;34m\u001b[0m\u001b[0m\n\u001b[0m\u001b[1;32m    428\u001b[0m \u001b[0;34m\u001b[0m\u001b[0m\n\u001b[1;32m    429\u001b[0m             \u001b[0;32mif\u001b[0m \u001b[0mself\u001b[0m\u001b[0;34m.\u001b[0m\u001b[0m_state\u001b[0m \u001b[0;32min\u001b[0m \u001b[0;34m[\u001b[0m\u001b[0mCANCELLED\u001b[0m\u001b[0;34m,\u001b[0m \u001b[0mCANCELLED_AND_NOTIFIED\u001b[0m\u001b[0;34m]\u001b[0m\u001b[0;34m:\u001b[0m\u001b[0;34m\u001b[0m\u001b[0;34m\u001b[0m\u001b[0m\n",
            "\u001b[0;32m/usr/lib/python3.6/threading.py\u001b[0m in \u001b[0;36mwait\u001b[0;34m(self, timeout)\u001b[0m\n\u001b[1;32m    293\u001b[0m         \u001b[0;32mtry\u001b[0m\u001b[0;34m:\u001b[0m    \u001b[0;31m# restore state no matter what (e.g., KeyboardInterrupt)\u001b[0m\u001b[0;34m\u001b[0m\u001b[0;34m\u001b[0m\u001b[0m\n\u001b[1;32m    294\u001b[0m             \u001b[0;32mif\u001b[0m \u001b[0mtimeout\u001b[0m \u001b[0;32mis\u001b[0m \u001b[0;32mNone\u001b[0m\u001b[0;34m:\u001b[0m\u001b[0;34m\u001b[0m\u001b[0;34m\u001b[0m\u001b[0m\n\u001b[0;32m--> 295\u001b[0;31m                 \u001b[0mwaiter\u001b[0m\u001b[0;34m.\u001b[0m\u001b[0macquire\u001b[0m\u001b[0;34m(\u001b[0m\u001b[0;34m)\u001b[0m\u001b[0;34m\u001b[0m\u001b[0;34m\u001b[0m\u001b[0m\n\u001b[0m\u001b[1;32m    296\u001b[0m                 \u001b[0mgotit\u001b[0m \u001b[0;34m=\u001b[0m \u001b[0;32mTrue\u001b[0m\u001b[0;34m\u001b[0m\u001b[0;34m\u001b[0m\u001b[0m\n\u001b[1;32m    297\u001b[0m             \u001b[0;32melse\u001b[0m\u001b[0;34m:\u001b[0m\u001b[0;34m\u001b[0m\u001b[0;34m\u001b[0m\u001b[0m\n",
            "\u001b[0;31mKeyboardInterrupt\u001b[0m: "
          ]
        }
      ]
    },
    {
      "cell_type": "code",
      "metadata": {
        "id": "53IyHFbLl6HM",
        "colab_type": "code",
        "colab": {
          "base_uri": "https://localhost:8080/",
          "height": 408
        },
        "outputId": "aa5df634-da6e-4b66-db64-e9aacc64164a"
      },
      "source": [
        "from sklearn.model_selection import RandomizedSearchCV\n",
        "\n",
        "rf = RandomForestClassifier()\n",
        "\n",
        "grid = [{'n_estimators': [10,50,100,200, 500,800, 1200,1800],\n",
        "            'max_features': ['auto', 'sqrt', 'log2'],\n",
        "            'max_depth' : [4,5,6,7,8],\n",
        "            'criterion' :['gini', 'entropy']\n",
        "         }]\n",
        "         \n",
        "search_rf=RandomizedSearchCV(rf,grid,cv=3,n_jobs=-1,scoring=\"roc_auc\",verbose = 10,n_iter = 30)\n",
        "search_rf.fit(X_train,y_train)\n",
        "\n",
        "print(\"AUC:\",search_rf.best_score_)\n",
        "search_rf.best_estimator_"
      ],
      "execution_count": null,
      "outputs": [
        {
          "output_type": "stream",
          "text": [
            "Fitting 3 folds for each of 30 candidates, totalling 90 fits\n"
          ],
          "name": "stdout"
        },
        {
          "output_type": "stream",
          "text": [
            "[Parallel(n_jobs=-1)]: Using backend LokyBackend with 2 concurrent workers.\n",
            "[Parallel(n_jobs=-1)]: Done   1 tasks      | elapsed:    4.7s\n",
            "[Parallel(n_jobs=-1)]: Done   4 tasks      | elapsed:    5.8s\n",
            "[Parallel(n_jobs=-1)]: Done   9 tasks      | elapsed:   15.6s\n",
            "[Parallel(n_jobs=-1)]: Done  14 tasks      | elapsed:   28.6s\n",
            "[Parallel(n_jobs=-1)]: Done  21 tasks      | elapsed:   33.1s\n",
            "[Parallel(n_jobs=-1)]: Done  28 tasks      | elapsed:   42.5s\n",
            "[Parallel(n_jobs=-1)]: Done  37 tasks      | elapsed:   47.2s\n",
            "[Parallel(n_jobs=-1)]: Done  46 tasks      | elapsed:   57.7s\n",
            "[Parallel(n_jobs=-1)]: Done  57 tasks      | elapsed:  1.6min\n",
            "[Parallel(n_jobs=-1)]: Done  68 tasks      | elapsed:  1.8min\n",
            "[Parallel(n_jobs=-1)]: Done  81 tasks      | elapsed:  2.4min\n",
            "[Parallel(n_jobs=-1)]: Done  90 out of  90 | elapsed:  2.6min finished\n"
          ],
          "name": "stderr"
        },
        {
          "output_type": "stream",
          "text": [
            "AUC: 0.7839467365028909\n"
          ],
          "name": "stdout"
        },
        {
          "output_type": "execute_result",
          "data": {
            "text/plain": [
              "RandomForestClassifier(bootstrap=True, ccp_alpha=0.0, class_weight=None,\n",
              "                       criterion='gini', max_depth=5, max_features='auto',\n",
              "                       max_leaf_nodes=None, max_samples=None,\n",
              "                       min_impurity_decrease=0.0, min_impurity_split=None,\n",
              "                       min_samples_leaf=1, min_samples_split=2,\n",
              "                       min_weight_fraction_leaf=0.0, n_estimators=1800,\n",
              "                       n_jobs=None, oob_score=False, random_state=None,\n",
              "                       verbose=0, warm_start=False)"
            ]
          },
          "metadata": {
            "tags": []
          },
          "execution_count": 25
        }
      ]
    },
    {
      "cell_type": "code",
      "metadata": {
        "id": "aDN20aSwo8nl",
        "colab_type": "code",
        "colab": {
          "base_uri": "https://localhost:8080/",
          "height": 628
        },
        "outputId": "c48d5014-0278-4161-ffa1-c8880b737744"
      },
      "source": [
        "# los modelos de arboles nos permiten hacer un analisis de importancia de variables:\n",
        "winning_rf = search_rf.best_estimator_\n",
        "importance = winning_rf.feature_importances_\n",
        "\n",
        "# armo un df para hacer el ordenamiento por feature importance\n",
        "df = pd.DataFrame(importance,columns = [\"imp\"])\n",
        "df[\"col_name\"] = train_cols\n",
        "df = df.sort_values(by=\"imp\",ascending = False) # Ordeno de forma descendente\n",
        "\n",
        "fig, ax = plt.subplots(figsize=(10,10))\n",
        "y_pos = np.arange(len(df.col_name.values))\n",
        "ax.barh(y_pos,df.imp.values , align='center')\n",
        "ax.set_yticks(y_pos)\n",
        "ax.set_yticklabels(df.col_name.values)\n",
        "ax.invert_yaxis()  # labels read top-to-bottom\n",
        "ax.set_xlabel('Feature Importance')\n"
      ],
      "execution_count": null,
      "outputs": [
        {
          "output_type": "execute_result",
          "data": {
            "text/plain": [
              "Text(0.5, 0, 'Feature Importance')"
            ]
          },
          "metadata": {
            "tags": []
          },
          "execution_count": 26
        },
        {
          "output_type": "display_data",
          "data": {
            "image/png": "[encoded data removed]",
            "text/plain": [
              "<Figure size 720x720 with 1 Axes>"
            ]
          },
          "metadata": {
            "tags": []
          }
        }
      ]
    },
    {
      "cell_type": "code",
      "metadata": {
        "id": "huMDlkP9yIK2",
        "colab_type": "code",
        "colab": {
          "base_uri": "https://localhost:8080/",
          "height": 340
        },
        "outputId": "eaa1b9af-581f-4dff-e6d2-227fa53ddf48"
      },
      "source": [
        "# Probemos con grandient boosting!\n",
        "from sklearn.ensemble import GradientBoostingClassifier\n",
        "\n",
        "parameters = {\n",
        "    \"learning_rate\": [0.01, 0.025, 0.05, 0.075, 0.1, 0.15, 0.2],\n",
        "    \"min_samples_split\": np.linspace(0.1, 0.5, 12),\n",
        "    \"min_samples_leaf\": np.linspace(0.1, 0.5, 12),\n",
        "    \"max_depth\":[3,5,8],\n",
        "    \"max_features\":[\"log2\",\"sqrt\"],\n",
        "    \"subsample\":[0.5, 0.618, 0.8, 0.85, 0.9, 0.95, 1.0],\n",
        "    \"n_estimators\":[10,50,100,250,500,1000]\n",
        "    }\n",
        "\n",
        "gb = GradientBoostingClassifier()\n",
        "\n",
        "grid = [{\"learning_rate\": [0.01, 0.025, 0.05, 0.075, 0.1, 0.15, 0.2], # learning reate del gradiente, es lo que le da sentido al gradient ;)\n",
        "          \"min_samples_split\": np.linspace(0.1, 0.5, 12),\n",
        "          \"min_samples_leaf\": np.linspace(0.1, 0.5, 12),\n",
        "          \"max_depth\":[3,5,8], # prevenimos overfitting\n",
        "          \"max_features\":[\"log2\",\"sqrt\"],\n",
        "          \"subsample\":[0.5, 0.618, 0.8, 0.85, 0.9, 0.95, 1.0], # super importante! combina features a tomar\n",
        "          \"n_estimators\":[10,50,100,250,500,1000] \n",
        "         }]\n",
        "         \n",
        "search_gb=RandomizedSearchCV(gb,grid,cv=3,n_jobs=-1,scoring=\"roc_auc\",verbose = 10,n_iter = 10)\n",
        "search_gb.fit(X_train,y_train)\n",
        "\n",
        "print(\"AUC:\",search_gb.best_score_)\n",
        "search_gb.best_estimator_"
      ],
      "execution_count": null,
      "outputs": [
        {
          "output_type": "stream",
          "text": [
            "Fitting 3 folds for each of 10 candidates, totalling 30 fits\n"
          ],
          "name": "stdout"
        },
        {
          "output_type": "stream",
          "text": [
            "[Parallel(n_jobs=-1)]: Using backend LokyBackend with 2 concurrent workers.\n",
            "[Parallel(n_jobs=-1)]: Done   1 tasks      | elapsed:    1.9s\n",
            "[Parallel(n_jobs=-1)]: Done   4 tasks      | elapsed:    3.7s\n",
            "[Parallel(n_jobs=-1)]: Done   9 tasks      | elapsed:    5.3s\n",
            "[Parallel(n_jobs=-1)]: Done  14 tasks      | elapsed:    6.3s\n",
            "[Parallel(n_jobs=-1)]: Done  21 tasks      | elapsed:    9.6s\n",
            "[Parallel(n_jobs=-1)]: Done  30 out of  30 | elapsed:   16.7s finished\n"
          ],
          "name": "stderr"
        },
        {
          "output_type": "stream",
          "text": [
            "AUC: 0.7834678817046191\n"
          ],
          "name": "stdout"
        },
        {
          "output_type": "execute_result",
          "data": {
            "text/plain": [
              "GradientBoostingClassifier(ccp_alpha=0.0, criterion='friedman_mse', init=None,\n",
              "                           learning_rate=0.025, loss='deviance', max_depth=5,\n",
              "                           max_features='sqrt', max_leaf_nodes=None,\n",
              "                           min_impurity_decrease=0.0, min_impurity_split=None,\n",
              "                           min_samples_leaf=0.2090909090909091,\n",
              "                           min_samples_split=0.5, min_weight_fraction_leaf=0.0,\n",
              "                           n_estimators=500, n_iter_no_change=None,\n",
              "                           presort='deprecated', random_state=None,\n",
              "                           subsample=1.0, tol=0.0001, validation_fraction=0.1,\n",
              "                           verbose=0, warm_start=False)"
            ]
          },
          "metadata": {
            "tags": []
          },
          "execution_count": 27
        }
      ]
    },
    {
      "cell_type": "markdown",
      "metadata": {
        "id": "tciGqHUh9h3F",
        "colab_type": "text"
      },
      "source": [
        "# 4) Ya tenemos muchos modelos dando vuelta, que empiece la competencia...\n",
        "\n",
        "Cuando miramos la curva ROC, comparamos:\n",
        "- FPR: Del total de negativos, que porcentaje predecimos mal\n",
        "- TPR: Del total de positivos, que porcentaje agarramos (Recall)\n",
        "\n",
        "Como estamos trabajando para marketing, queremos maximizar el TPR ya que queremos alcanzar a la mayoria de los usuarios que realmente vayan a churn, pero como el presupuesto es acotado queremos reducir los falsos positivos ya que vamos a estar pagando por personas que en realidad no van a estar churneando.\n",
        "\n",
        "Como no nos han dado una penalizacion por falso positivo, vamos a buscar un punto de quiebre en la curva para el cual el crecimiento de TPR se reduzca. Podemos ver que para un FPR = 0.3 cumplimos con esta condicion "
      ]
    },
    {
      "cell_type": "code",
      "metadata": {
        "id": "1iIwO_hV9Q4-",
        "colab_type": "code",
        "colab": {
          "base_uri": "https://localhost:8080/",
          "height": 679
        },
        "outputId": "a48dd5b3-7224-4661-d4a7-27cd22c91206"
      },
      "source": [
        "# Ploteamos la curva\n",
        "from sklearn.metrics import roc_curve\n",
        "from sklearn.metrics import roc_auc_score\n",
        "\n",
        "plt.figure(figsize=(10,10))\n",
        "fpr,tpr,tresh = roc_curve(y_test,search_lr.predict_proba(X_test)[:,1])\n",
        "auc_lr = roc_auc_score(y_test,search_lr.predict_proba(X_test)[:,1])\n",
        "plt.plot(fpr,tpr)\n",
        "fpr,tpr,tresh = roc_curve(y_test,search_knn.predict_proba(X_test)[:,1])\n",
        "auc_KNN= roc_auc_score(y_test,search_knn.predict_proba(X_test)[:,1])\n",
        "plt.plot(fpr,tpr)\n",
        "fpr,tpr,tresh = roc_curve(y_test,search_rf.predict_proba(X_test)[:,1])\n",
        "auc_RF= roc_auc_score(y_test,search_rf.predict_proba(X_test)[:,1])\n",
        "plt.plot(fpr,tpr)\n",
        "fpr,tpr,tresh = roc_curve(y_test,search_gb.predict_proba(X_test)[:,1])\n",
        "auc_GB = roc_auc_score(y_test,search_gb.predict_proba(X_test)[:,1])\n",
        "plt.plot(fpr,tpr)\n",
        "\n",
        "plt.ylabel(\"TPR = TP/P\")\n",
        "plt.xlabel(\"FPR = FP/N\")\n",
        "plt.legend([\"LR\",\"KNN\",\"RF\",\"GB\"])\n",
        "\n",
        "plt.vlines(x=0.3,ymin=0,ymax=1,linestyles=\"dashed\",color =\"black\")\n",
        "print(\"LR AUC: Train {} || Test {}\".format(search_lr.best_score_,auc_lr))\n",
        "print(\"KNN AUC: Train {} || Test {}\".format(search_knn.best_score_,auc_KNN))\n",
        "print(\"RF AUC: Train {} || Test {}\".format(search_rf.best_score_,auc_RF))\n",
        "print(\"GB AUC: Train {} || Test {}\".format(search_gb.best_score_,auc_GB))\n"
      ],
      "execution_count": null,
      "outputs": [
        {
          "output_type": "stream",
          "text": [
            "LR AUC: Train 0.7815460624195855 || Test 0.7830820404438252\n",
            "KNN AUC: Train 0.778482271914577 || Test 0.7822251308900523\n",
            "RF AUC: Train 0.7839467365028909 || Test 0.786964311446275\n",
            "GB AUC: Train 0.7834678817046191 || Test 0.7857243383447814\n"
          ],
          "name": "stdout"
        },
        {
          "output_type": "display_data",
          "data": {
            "image/png": "[encoded data removed]",
            "text/plain": [
              "<Figure size 720x720 with 1 Axes>"
            ]
          },
          "metadata": {
            "tags": []
          }
        }
      ]
    },
    {
      "cell_type": "code",
      "metadata": {
        "id": "Fz9HoKUU_x8s",
        "colab_type": "code",
        "colab": {
          "base_uri": "https://localhost:8080/",
          "height": 34
        },
        "outputId": "7afac1be-0224-44e1-e804-d80075a2432d"
      },
      "source": [
        "# A partir de la curva, elegimos el modelo que mayor TPR tenga para el corte negro. Ganador: Random Forest\n",
        "\n",
        "win_model = search_rf\n",
        "fpr,tpr,tresh = roc_curve(y_test,search_rf.predict_proba(X_test)[:,1])\n",
        "\n",
        "df = pd.DataFrame(list(tresh),columns=[\"tresh\"])\n",
        "df[\"TPR\"] = tpr\n",
        "df[\"FPR\"] = fpr\n",
        "\n",
        "treshold = df.loc[np.abs(df.FPR - 0.3) < 0.01].head(1).tresh.values[0]\n",
        "\n",
        "print(\"Treshold Ganador:\",treshold)\n",
        "\n",
        "# Aplicamos el umbral:\n",
        "y_tresh = np.where(win_model.predict_proba(X_test)[:,1] >= treshold,1,0 )"
      ],
      "execution_count": null,
      "outputs": [
        {
          "output_type": "stream",
          "text": [
            "Treshold Ganador: 0.4169966656556755\n"
          ],
          "name": "stdout"
        }
      ]
    },
    {
      "cell_type": "code",
      "metadata": {
        "id": "otc_wG89r6C9",
        "colab_type": "code",
        "colab": {
          "base_uri": "https://localhost:8080/",
          "height": 454
        },
        "outputId": "423ad02b-804d-41a5-d39f-ef4c578611ff"
      },
      "source": [
        "# Vemos como nos queda la matriz de confusion con este corte y sus metricas asociadas:\n",
        "from sklearn.metrics import classification_report\n",
        "import seaborn as sns\n",
        "from sklearn.metrics import confusion_matrix\n",
        "\n",
        "cf_matrix = confusion_matrix(y_test, y_tresh)\n",
        "sns.heatmap(cf_matrix, annot=True,cmap='Blues')\n",
        "plt.title(\"Confusion MAtrix\")\n",
        "plt.ylabel(\"True\")\n",
        "plt.xlabel(\"Predicted\")\n",
        "print(classification_report(y_test,y_tresh))"
      ],
      "execution_count": null,
      "outputs": [
        {
          "output_type": "stream",
          "text": [
            "              precision    recall  f1-score   support\n",
            "\n",
            "           0       0.81      0.71      0.76      1910\n",
            "           1       0.58      0.71      0.64      1090\n",
            "\n",
            "    accuracy                           0.71      3000\n",
            "   macro avg       0.70      0.71      0.70      3000\n",
            "weighted avg       0.73      0.71      0.71      3000\n",
            "\n"
          ],
          "name": "stdout"
        },
        {
          "output_type": "display_data",
          "data": {
            "image/png": "[encoded data removed]",
            "text/plain": [
              "<Figure size 432x288 with 2 Axes>"
            ]
          },
          "metadata": {
            "tags": []
          }
        }
      ]
    },
    {
      "cell_type": "markdown",
      "metadata": {
        "id": "PHzYxeRCOUhp",
        "colab_type": "text"
      },
      "source": [
        "# 5) Ya tenemos el modelo y el umbral. Solo queda guardar el modelo y el umbral para usarlo!\n",
        "\n",
        "Vamos a usar pickle, una libreria bastante sencilla que guarda el modelo en formato pickle. Pickle es un formato binario con checkeo de errores."
      ]
    },
    {
      "cell_type": "code",
      "metadata": {
        "id": "u9bUA5ltB6Wf",
        "colab_type": "code",
        "colab": {}
      },
      "source": [
        "import pickle\n",
        "\n",
        "with open('model.pkl', 'wb') as fout:\n",
        "    pickle.dump(win_model, fout)"
      ],
      "execution_count": null,
      "outputs": []
    },
    {
      "cell_type": "markdown",
      "metadata": {
        "id": "nf1LLRvPPnUw",
        "colab_type": "text"
      },
      "source": [
        "# 6) Simulamos poner el modelo en produccion\n",
        "\n",
        "Le avisamos a marketing que teniamos el modelo, le dimos descuento a los usuarios para retenerlos y nos fue muy bien :) Asi que pasado el tiempo nos vuelven a pedir que scoriemos nuevos usuarios... por suerte ya habiamos guardado el modelo y su treshold, con lo cual es solo cuestion de volver a aplicar el modelo."
      ]
    },
    {
      "cell_type": "code",
      "metadata": {
        "id": "payJG7LJNfjC",
        "colab_type": "code",
        "colab": {
          "base_uri": "https://localhost:8080/",
          "height": 34
        },
        "outputId": "fa69f237-ca34-4f5f-d437-8642f0924cc7"
      },
      "source": [
        "TRESHOLD = 0.4169966656556755  # este es el umbral que me habia dado a mi\n",
        "\n",
        "train_cols = ['Recency', 'first_in_windows', 'Freq_2Y', 'Freq_1Y', 'Freq_3M',\n",
        "       'IPT_mean', 'CREDIT_PAY', 'TIPO_TARJETA',\n",
        "       'CUS_FIRST_BUY', 'CANTIDAD_COMPRAS_ITEMS_USADOS',\n",
        "       'cant_dias_active_short', 'recency_date_short']\n",
        "\n",
        "with open(\"model.pkl\", 'rb') as file:\n",
        "    model = pickle.load(file)\n",
        "\n",
        "new_data = pd.read_csv(\"DATASET_LTV.csv\",sep=\";\") # hagamos de cuenta que son nuevos usuarios\n",
        "\n",
        "new_data[\"predicions\"] = np.where(model.predict_proba(new_data[train_cols])[:,1] >= TRESHOLD,1,0 ) # usar predict_proba y umbralizar\n",
        "\n",
        "print(\"Detectamos a {} usuarios\".format(new_data.loc[new_data.predicions == 1].shape[0]))# Nos fijamos a cuantos usuarios detectamos\n",
        "\n",
        "# Guardo el segmento de usuarios para mandarles descuentos\n",
        "new_data.loc[new_data.predicions == 1][[\"cust\"]].to_csv(\"ENVIARLES_DESCUENTO.csv\",index=False)"
      ],
      "execution_count": null,
      "outputs": [
        {
          "output_type": "stream",
          "text": [
            "Detectamos a 4454 usuarios\n"
          ],
          "name": "stdout"
        }
      ]
    }
  ]
}